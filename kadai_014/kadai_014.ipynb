{
  "nbformat": 4,
  "nbformat_minor": 0,
  "metadata": {
    "colab": {
      "provenance": []
    },
    "kernelspec": {
      "name": "python3",
      "display_name": "Python 3"
    },
    "language_info": {
      "name": "python"
    }
  },
  "cells": [
    {
      "cell_type": "code",
      "execution_count": 3,
      "metadata": {
        "id": "K0b8YkJ51wgI",
        "colab": {
          "base_uri": "https://localhost:8080/"
        },
        "outputId": "6e2414bf-5ef4-4a20-8bdb-84e0c6e3fe0b"
      },
      "outputs": [
        {
          "output_type": "stream",
          "name": "stdout",
          "text": [
            "330\n"
          ]
        }
      ],
      "source": [
        "price1 = 100\n",
        "price2 = 200\n",
        "\n",
        "# 消費税率\n",
        "tax = 1.1\n",
        "\n",
        "# 合計金額を返す関数（税抜き）\n",
        "def total():\n",
        "    return price1 + price2\n",
        "\n",
        "print(int(total() * tax))\n"
      ]
    }
  ]
}