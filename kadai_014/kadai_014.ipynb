{
  "nbformat": 4,
  "nbformat_minor": 0,
  "metadata": {
    "colab": {
      "provenance": []
    },
    "kernelspec": {
      "name": "python3",
      "display_name": "Python 3"
    },
    "language_info": {
      "name": "python"
    }
  },
  "cells": [
    {
      "cell_type": "code",
      "execution_count": 2,
      "metadata": {
        "id": "K0b8YkJ51wgI",
        "colab": {
          "base_uri": "https://localhost:8080/"
        },
        "outputId": "8a9a5689-6422-44f8-e4f5-a5098fc07b70"
      },
      "outputs": [
        {
          "output_type": "stream",
          "name": "stdout",
          "text": [
            "330.0\n"
          ]
        }
      ],
      "source": [
        "price1 = 100\n",
        "price2 = 200\n",
        "\n",
        "def total():\n",
        "    tax = 1.1\n",
        "    return (price1 + price2) * tax\n",
        "\n",
        "print(total())"
      ]
    }
  ]
}