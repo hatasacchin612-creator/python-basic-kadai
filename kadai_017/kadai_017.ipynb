{
  "nbformat": 4,
  "nbformat_minor": 0,
  "metadata": {
    "colab": {
      "provenance": []
    },
    "kernelspec": {
      "name": "python3",
      "display_name": "Python 3"
    },
    "language_info": {
      "name": "python"
    }
  },
  "cells": [
    {
      "cell_type": "code",
      "execution_count": 1,
      "metadata": {
        "colab": {
          "base_uri": "https://localhost:8080/"
        },
        "id": "o-TXZjxL7yci",
        "outputId": "88e935a7-357b-404b-9c8c-343941b3e9e5"
      },
      "outputs": [
        {
          "output_type": "stream",
          "name": "stdout",
          "text": [
            "太郎さんは大人です。\n",
            "花子さんは大人ではありません。\n",
            "次郎さんは大人です。\n"
          ]
        }
      ],
      "source": [
        "# Humanクラスの定義\n",
        "class Human:\n",
        "    def __init__(self, name, age):\n",
        "        self.name = name\n",
        "        self.age = age\n",
        "\n",
        "    def check_adult(self):\n",
        "        if self.age >= 20:\n",
        "            print(f\"{self.name}さんは大人です。\")\n",
        "        else:\n",
        "            print(f\"{self.name}さんは大人ではありません。\")\n",
        "\n",
        "# インスタンスを複数作成\n",
        "person1 = Human(\"太郎\", 25)\n",
        "person2 = Human(\"花子\", 18)\n",
        "person3 = Human(\"次郎\", 20)\n",
        "\n",
        "# インスタンスをリストに追加\n",
        "people = [person1, person2, person3]\n",
        "\n",
        "# リストの要素分だけcheck_adultを呼び出す\n",
        "for person in people:\n",
        "    person.check_adult()"
      ]
    }
  ]
}