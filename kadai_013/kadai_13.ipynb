{
  "nbformat": 4,
  "nbformat_minor": 0,
  "metadata": {
    "colab": {
      "provenance": []
    },
    "kernelspec": {
      "name": "python3",
      "display_name": "Python 3"
    },
    "language_info": {
      "name": "python"
    }
  },
  "cells": [
    {
      "cell_type": "code",
      "execution_count": 2,
      "metadata": {
        "colab": {
          "base_uri": "https://localhost:8080/"
        },
        "id": "m4uHL1VIpOl6",
        "outputId": "4e26b289-0715-46ac-b4f6-1452f3da9854"
      },
      "outputs": [
        {
          "output_type": "stream",
          "name": "stdout",
          "text": [
            "税込金額は 121 円です\n"
          ]
        }
      ],
      "source": [
        "# 消費税を計算する関数\n",
        "def calc_tax(price, tax_rate):\n",
        "    # 税額を計算\n",
        "    tax = price * (tax_rate / 100)\n",
        "    # 税込金額を返す\n",
        "    return price + tax\n",
        "\n",
        "# 関数を呼び出して計算\n",
        "result = calc_tax(110, 10)\n",
        "\n",
        "# 整数か小数かで出力形式を変える\n",
        "if result.is_integer():\n",
        "    # 整数なら int に変換して出力\n",
        "    print(\"税込金額は\", int(result), \"円です\")\n",
        "else:\n",
        "    # 小数ならそのまま出力\n",
        "    print(\"税込金額は\", result, \"円です\")"
      ]
    }
  ]
}