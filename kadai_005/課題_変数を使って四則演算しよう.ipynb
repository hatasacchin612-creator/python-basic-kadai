{
  "nbformat": 4,
  "nbformat_minor": 0,
  "metadata": {
    "colab": {
      "provenance": [],
      "toc_visible": true
    },
    "kernelspec": {
      "name": "python3",
      "display_name": "Python 3"
    },
    "language_info": {
      "name": "python"
    }
  },
  "cells": [
    {
      "cell_type": "code",
      "execution_count": null,
      "metadata": {
        "id": "GQ8aQ1QVK-0E"
      },
      "outputs": [],
      "source": []
    },
    {
      "cell_type": "code",
      "source": [
        "top_base = 10 # 上辺 (cm)\n",
        "bottom_base = 20 # 下辺 (cm)\n",
        "height = 5 # 高さ (cm)\n",
        "\n",
        "#面積の計算\n",
        "area = (top_base + bottom_base) * height / 2\n",
        "\n",
        "#結果を出力\n",
        "print(f\"{area}cm²\")"
      ],
      "metadata": {
        "colab": {
          "base_uri": "https://localhost:8080/"
        },
        "id": "u3wOcdt__XnK",
        "outputId": "e74e0fa9-c468-4272-de46-4df4fca627b3"
      },
      "execution_count": 3,
      "outputs": [
        {
          "output_type": "stream",
          "name": "stdout",
          "text": [
            "75.0cm²\n"
          ]
        }
      ]
    },
    {
      "cell_type": "code",
      "source": [],
      "metadata": {
        "id": "pYw-vHihliVr"
      },
      "execution_count": null,
      "outputs": []
    }
  ]
}