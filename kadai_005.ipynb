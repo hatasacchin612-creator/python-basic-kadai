{
  "nbformat": 4,
  "nbformat_minor": 0,
  "metadata": {
    "colab": {
      "provenance": []
    },
    "kernelspec": {
      "name": "python3",
      "display_name": "Python 3"
    },
    "language_info": {
      "name": "python"
    }
  },
  "cells": [
    {
      "cell_type": "code",
      "execution_count": null,
      "metadata": {
        "id": "GQ8aQ1QVK-0E"
      },
      "outputs": [],
      "source": []
    },
    {
      "cell_type": "code",
      "source": [
        "top_base = 10 # 上辺 (cm)\n",
        "bottom_base = 20 # 下辺 (cm)\n",
        "height = 5 # 高さ (cm)\n",
        "\n",
        "#面積の計算\n",
        "area = (top_base + bottom_base) * height / 2\n",
        "\n",
        "#結果を出力\n",
        "print(f\"{int(area)}㎠\")"
      ],
      "metadata": {
        "colab": {
          "base_uri": "https://localhost:8080/"
        },
        "id": "u3wOcdt__XnK",
        "outputId": "9c75d5c9-6360-4b9f-aa60-39250a839919"
      },
      "execution_count": 1,
      "outputs": [
        {
          "output_type": "stream",
          "name": "stdout",
          "text": [
            "75㎠\n"
          ]
        }
      ]
    }
  ]
}